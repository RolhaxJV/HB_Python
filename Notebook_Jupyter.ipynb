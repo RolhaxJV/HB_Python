{
 "cells": [
  {
   "cell_type": "markdown",
   "metadata": {},
   "source": [
    "# Variable"
   ]
  },
  {
   "cell_type": "code",
   "execution_count": 5,
   "metadata": {},
   "outputs": [
    {
     "data": {
      "text/plain": [
       "int"
      ]
     },
     "execution_count": 5,
     "metadata": {},
     "output_type": "execute_result"
    }
   ],
   "source": [
    "a = 5\n",
    "type(a)\n"
   ]
  },
  {
   "cell_type": "markdown",
   "metadata": {},
   "source": []
  },
  {
   "cell_type": "code",
   "execution_count": 6,
   "metadata": {},
   "outputs": [],
   "source": [
    "a = 'a'\n",
    "b = 'b'\n",
    "c = 'c'\n",
    "\n",
    "zero = 0\n",
    "one = 1\n",
    "two = 2\n",
    "\n",
    "x,y = [1,2]"
   ]
  },
  {
   "cell_type": "markdown",
   "metadata": {},
   "source": [
    "# Commentaire"
   ]
  },
  {
   "cell_type": "code",
   "execution_count": 7,
   "metadata": {},
   "outputs": [
    {
     "name": "stdout",
     "output_type": "stream",
     "text": [
      "Hello world\n"
     ]
    },
    {
     "data": {
      "text/plain": [
       "'\\nCommentaire\\n'"
      ]
     },
     "execution_count": 7,
     "metadata": {},
     "output_type": "execute_result"
    }
   ],
   "source": [
    "# Commentaire\n",
    "#region Commentaire\n",
    "print(\"Hello world\")\n",
    "#endregion\n",
    "\n",
    "'''\n",
    "Commentaire\n",
    "'''"
   ]
  },
  {
   "cell_type": "markdown",
   "metadata": {},
   "source": [
    "# Objets"
   ]
  },
  {
   "cell_type": "code",
   "execution_count": 19,
   "metadata": {},
   "outputs": [
    {
     "name": "stdout",
     "output_type": "stream",
     "text": [
      "objets\n",
      "Objets\n"
     ]
    },
    {
     "data": {
      "text/plain": [
       "\"J'aime les Pomme, qui font : 1 kg\""
      ]
     },
     "execution_count": 19,
     "metadata": {},
     "output_type": "execute_result"
    }
   ],
   "source": [
    "# Objet ==> Attributs et Methode ==> Instance de class\n",
    "# Methode ==> fonction propre a l'objet utilise\n",
    "# Attribut ==> La/Les variable(s) qui construise l'objet\n",
    "str\n",
    "\n",
    "my_variable = \"ObJeTs\"\n",
    "\n",
    "print(my_variable.lower())\n",
    "\n",
    "print(my_variable.capitalize())\n",
    "\n",
    "\n",
    "class Fruit:\n",
    "    def __init__(self, nom = \"UNKOW\" , poids = 0):\n",
    "        self.nom = nom\n",
    "        self.poids = poids\n",
    "        \n",
    "    def print(self):\n",
    "        return f\"J'aime les {self.nom}, qui font : {self.poids} kg\"\n",
    "\n",
    "pomme = Fruit(\"Pomme\", 1 )\n",
    "pomme.print()\n",
    "\n",
    "            "
   ]
  },
  {
   "cell_type": "code",
   "execution_count": 9,
   "metadata": {},
   "outputs": [
    {
     "name": "stdout",
     "output_type": "stream",
     "text": [
      "MAJUSCULE | majuscule | Majuscule\n"
     ]
    }
   ],
   "source": [
    "my_variable = \"majuscule\"\n",
    "\n",
    "print(my_variable.upper(),\"|\", my_variable.lower(),\"|\",my_variable.capitalize())\n",
    "\n"
   ]
  },
  {
   "cell_type": "markdown",
   "metadata": {},
   "source": [
    "# Type / Sequence"
   ]
  },
  {
   "cell_type": "code",
   "execution_count": 10,
   "metadata": {},
   "outputs": [
    {
     "name": "stdout",
     "output_type": "stream",
     "text": [
      "<class 'str'>  |  <class 'int'>   |  <class 'float'>  |  <class 'bool'>\n",
      "<class 'set'>  |  <class 'list'>  |  <class 'tuple'>  |  <class 'dict'>\n",
      "\n",
      "{'Sucre', 'Lait', 'Farine', 'Oeuf', 'Huile'}\n",
      "{'Sucre'}\n",
      "{'Oeuf', 'Lait'}\n",
      "{'Sucre', 'Oeuf', 'Lait'}\n",
      "\n",
      "La traduction de 'one' est 'une'\n",
      "La traduction de 'two' est 'deux'\n"
     ]
    },
    {
     "data": {
      "text/plain": [
       "{('one', 'un'), ('two', 'deux')}"
      ]
     },
     "execution_count": 10,
     "metadata": {},
     "output_type": "execute_result"
    }
   ],
   "source": [
    "# Type\n",
    "print(type(''),\" | \", type(0) ,\"  | \", type(0.00) ,\" | \", type(True))\n",
    "\n",
    "# Sequence\n",
    "print(type({0,1,2}),\" | \", type([]) ,\" | \", type(()),\" | \",type({}))\n",
    "\n",
    "# region String : str\n",
    "\n",
    "string = \"Hello world\"\n",
    "len(string)\n",
    "string.split('o')\n",
    "\n",
    "# endregion\n",
    "\n",
    "#region List : list\n",
    "\n",
    "l = []\n",
    "l.append(string)\n",
    "'''\n",
    "l.reverse()\n",
    "l.pop() # Dernier element ajouter\n",
    "l.remove(string) # element choisi\n",
    "l + l \n",
    "l * l\n",
    "l[0]\n",
    "l[-1]\n",
    "l[1:]\n",
    "l[::2]\n",
    "'''\n",
    "#endregion\n",
    "\n",
    "# region List en compréhension\n",
    "nbs = [*range(100)] # Ajoute dans la liste les element 0 à 99\n",
    "[number**2 for number in range(100)]\n",
    "\n",
    "# endregion\n",
    "\n",
    "# region Tuple : tuple\n",
    "\n",
    "tuple(l)\n",
    "l = (1,2,3)\n",
    "\n",
    "# endregion\n",
    "\n",
    "print()\n",
    "\n",
    "# region Set : set\n",
    "\n",
    "a = {'Oeuf','Lait','Sucre'}\n",
    "b = {'Farine','Huile','Sucre'} \n",
    "\n",
    "# Outer\n",
    "print(a | b)\n",
    "\n",
    "# Inner\n",
    "print(a & b)\n",
    "\n",
    "# Left outer\n",
    "print(a - b)\n",
    "\n",
    "# Left inner\n",
    "print(a or b)\n",
    "# endregion\n",
    "\n",
    "print()\n",
    "\n",
    "# region Dictionnaire : dict\n",
    "\n",
    "translations = {'one':'une', 'two':'deux'}\n",
    "\n",
    "translations.items()\n",
    "\n",
    "for english, french in translations.items():\n",
    "    print(f\"La traduction de '{english}' est '{french}'\")\n",
    "\n",
    "# dict en comprehension\n",
    "{(key,value) for (key,value) in translations.items()}\n",
    "\n",
    "dict(zip([\"one\", \"two\"], [\"un\", \"deux\"]))\n",
    "{(key,value) for (key,value) in zip([\"one\", \"two\"], [\"un\", \"deux\"])}\n",
    "# endregion \n"
   ]
  },
  {
   "cell_type": "code",
   "execution_count": 11,
   "metadata": {},
   "outputs": [
    {
     "name": "stdout",
     "output_type": "stream",
     "text": [
      "{'1992-12-31', '1993-12-31', '1994-12-31'}\n",
      "{'1990-12-31', '1991-12-31', '1995-12-31', '1997-12-31', '1989-12-31', '1996-12-31', '1988-12-31', '1998-12-31'}\n"
     ]
    },
    {
     "name": "stderr",
     "output_type": "stream",
     "text": [
      "C:\\Users\\siosl\\AppData\\Local\\Temp\\ipykernel_6416\\2750402250.py:1: DeprecationWarning: \n",
      "Pyarrow will become a required dependency of pandas in the next major release of pandas (pandas 3.0),\n",
      "(to allow more performant data types, such as the Arrow string type, and better interoperability with other libraries)\n",
      "but was not found to be installed on your system.\n",
      "If this would cause problems for you,\n",
      "please provide us feedback at https://github.com/pandas-dev/pandas/issues/54466\n",
      "        \n",
      "  import pandas as pd\n"
     ]
    }
   ],
   "source": [
    "import pandas as pd\n",
    "\n",
    "first_date_range = pd.date_range('01/01/1992', '01/01/1999', freq='YE').astype(str).to_list()\n",
    "\n",
    "second_date_range = pd.date_range('01/01/1988', '01/01/1995', freq='YE').astype(str).to_list()\n",
    "\n",
    "\n",
    "# Les dates communes.\n",
    "print(set(first_date_range).intersection(set(second_date_range)))\n",
    "# Les dates non communes à ces deux liste.\n",
    "print(set(first_date_range).symmetric_difference(second_date_range))\n"
   ]
  },
  {
   "cell_type": "code",
   "execution_count": 12,
   "metadata": {},
   "outputs": [
    {
     "name": "stdout",
     "output_type": "stream",
     "text": [
      "[151.5, 159.0, 166.5, 174.0, 181.5, 189.0, 196.5, 204.0, 211.5, 219.0, 226.5, 234.0, 241.5, 249.0, 256.5, 264.0, 271.5, 279.0, 286.5, 294.0, 301.5, 309.0, 316.5, 324.0, 331.5, 339.0, 346.5, 354.0, 361.5, 369.0, 376.5]\n"
     ]
    }
   ],
   "source": [
    "# x = Surface de la maison\n",
    "a = 7.5\n",
    "b = 1.5\n",
    "# y = Prix de la maison\n",
    "\n",
    "# Votre mission, calculer y pour toutes les maisons allant de 20m² jusque 50m2\n",
    "l = [a*x+b for x in range(20,51)]\n",
    "print(l) \n"
   ]
  },
  {
   "cell_type": "code",
   "execution_count": 13,
   "metadata": {},
   "outputs": [
    {
     "name": "stdout",
     "output_type": "stream",
     "text": [
      "[20306739.8, 22387986.400000002, 24570748.200000003, 26855025.200000003, 29240817.400000002, 31728124.8, 34316947.4, 37007285.199999996, 39799138.199999996, 42692506.4, 45687389.8, 48783788.4, 51981702.2, 55281131.2, 58682075.4, 62184534.8, 65788509.4, 69493999.2, 73301004.2, 77209524.4, 81219559.8, 85331110.4, 89544176.2, 93858757.2, 98274853.4, 102792464.8, 107411591.4, 112132233.2, 116954390.2, 121878062.4, 126903249.8]\n"
     ]
    }
   ],
   "source": [
    "# x = Surface de la maison\n",
    "a = 507.576\n",
    "b = 18.5\n",
    "c = -0.2\n",
    "# y = Prix de la maison\n",
    "\n",
    "# L'équation est : ax2 + bx + c = y\n",
    "\n",
    "# Votre mission, calculer y pour toutes les maisons allant de 200m² jusque 500m2. Seulement les pas de dix doit être pris en compte.\n",
    "l =[ a * x ** 2 + b * x + c for x in range(200,501,10)]\n",
    "print(l)"
   ]
  },
  {
   "cell_type": "code",
   "execution_count": 14,
   "metadata": {},
   "outputs": [
    {
     "name": "stdout",
     "output_type": "stream",
     "text": [
      "18/01/2024  |  690  |  52.08 % |  True\n"
     ]
    }
   ],
   "source": [
    "# Date du jour\n",
    "date = \"18/01/2024\"\n",
    "\n",
    "# Nombre de minutes écoulées depuis minuit jusque 11h30\n",
    "minute = 11*60 + 30\n",
    "\n",
    "# Pourcentage de minutes restantes dans la journée\n",
    "remaining_minutes = 100 - (minute * 100) /1440\n",
    "\n",
    "# Est que le nombre écouler de minute est pair ou impair\n",
    "\n",
    "is_even = minute % 2 == 0\n",
    "\n",
    "print(date ,' | ', minute, ' | ', round(remaining_minutes,2),'% | ', is_even)\n",
    "\n"
   ]
  },
  {
   "cell_type": "code",
   "execution_count": 15,
   "metadata": {},
   "outputs": [
    {
     "name": "stdout",
     "output_type": "stream",
     "text": [
      "Nous sommes le lundi 22 janvier\n",
      "Minutes écoulées depuis minuit: 740 minutes\n",
      "Pourcentage des minutes restantes : 48.62 en %\n",
      "C'est Impair.\n",
      "Le nombre de minutes restantes est pair : False\n"
     ]
    }
   ],
   "source": [
    "from datetime import datetime\n",
    "import locale\n",
    "\n",
    "# Définir la locale en français\n",
    "locale.setlocale(locale.LC_TIME, \"fr_FR\")\n",
    "\n",
    "# Date du jour\n",
    "aujourd_hui = datetime.now()\n",
    "date = aujourd_hui.strftime(\"%A %d %B\")\n",
    "print(\"Nous sommes le\", date)\n",
    "# Restaurez la locale par défaut pour éviter d'éventuels problèmes\n",
    "locale.setlocale(locale.LC_TIME, \"\")\n",
    "\n",
    "# Heure actuelle\n",
    "heure_actuelle = aujourd_hui.time()\n",
    "\n",
    "# Nombre de minutes écoulées depuis minuit jusqu'à 11h30\n",
    "minuit = datetime.combine(aujourd_hui.date(), datetime.min.time())\n",
    "temps_ecoule = (aujourd_hui - minuit).total_seconds() / 60\n",
    "print(\"Minutes écoulées depuis minuit:\", round(temps_ecoule), \"minutes\")\n",
    "\n",
    "# Pourcentage de minutes restantes dans la journée\n",
    "temps_restant = (24 * 60 - temps_ecoule) / (24 * 60) * 100\n",
    "print(\"Pourcentage des minutes restantes :\", round(temps_restant, 2), \"en %\")\n",
    "\n",
    "# Est-ce que le nombre de minutes est pair ou impair\n",
    "# Solution n°1\n",
    "if temps_restant % 2 == 0:\n",
    "    is_even = True\n",
    "    print(\"C'est Pair.\")\n",
    "else:\n",
    "    is_even = False\n",
    "    print(\"C'est Impair.\")\n",
    "\n",
    "# Solution n°2\n",
    "is_even = temps_restant % 2 == 0\n",
    "print(\"Le nombre de minutes restantes est pair :\", is_even)"
   ]
  },
  {
   "cell_type": "markdown",
   "metadata": {},
   "source": [
    "# Operations Arithmétique"
   ]
  },
  {
   "cell_type": "code",
   "execution_count": 16,
   "metadata": {},
   "outputs": [
    {
     "data": {
      "text/plain": [
       "6"
      ]
     },
     "execution_count": 16,
     "metadata": {},
     "output_type": "execute_result"
    }
   ],
   "source": [
    "1 + 1 # Addition\n",
    "\n",
    "1 - 1 # Soustraction\n",
    "\n",
    "1 * 1 # Multiplication\n",
    "\n",
    "1 / 2 # Division\n",
    "\n",
    "2 ** 2 # Puissance\n",
    "\n",
    "12 % 2 # Modulo (reste d'une division euclidienne)\n",
    "\n",
    "12 // 2 # Division euclidienne (resultat stricte d'une division euclidenne)"
   ]
  },
  {
   "cell_type": "code",
   "execution_count": 17,
   "metadata": {},
   "outputs": [
    {
     "name": "stdout",
     "output_type": "stream",
     "text": [
      "moyenne de t : 7.0\n",
      "moyenne de s t : 21.0 \n",
      "\n",
      "moyenne de ln(N) :  3.43\n",
      "moyenne de s ln(N) :  2.73\n"
     ]
    }
   ],
   "source": [
    "# region Moyenne de t\n",
    "\n",
    "t = [0, 2, 4, 6, 8, 10, 12, 14]\n",
    "moyen_t = 0\n",
    "moyen_s_t = 0\n",
    "for elm in t :\n",
    "    moyen_t += elm\n",
    "    moyen_s_t += elm**2\n",
    "    \n",
    "moyen_t /= len(t)\n",
    "moyen_s_t = moyen_s_t/len(t) - moyen_t**2\n",
    "\n",
    "print(f\"moyenne de t : {moyen_t}\")\n",
    "print(f\"moyenne de s t : { moyen_s_t} \\n\")\n",
    "\n",
    "# endregion\n",
    "\n",
    "\n",
    "#region Moyenne de ln(N)\n",
    "ln_N = [0.69,1.61,2.77,2.99,3.69,4.60,5.30,5.77]\n",
    "moyen_ln_N = 0\n",
    "moyen_s_ln_N = 0\n",
    "for elm in ln_N :\n",
    "    moyen_ln_N += elm\n",
    "    moyen_s_ln_N += elm**2\n",
    "    \n",
    "moyen_ln_N /= len(ln_N)\n",
    "moyen_s_ln_N = moyen_s_ln_N/len(ln_N) - round(moyen_ln_N**2,2)\n",
    "\n",
    "print(\"moyenne de ln(N) : \",round(moyen_ln_N,2))\n",
    "print(\"moyenne de s ln(N) : \",round(moyen_s_ln_N,2))\n",
    "#endregion\n",
    "\n",
    "\n"
   ]
  },
  {
   "cell_type": "markdown",
   "metadata": {},
   "source": [
    "# Function"
   ]
  },
  {
   "cell_type": "code",
   "execution_count": 18,
   "metadata": {},
   "outputs": [
    {
     "data": {
      "text/plain": [
       "'sucre:  125g, sel: 50g pour 5 personne'"
      ]
     },
     "execution_count": 18,
     "metadata": {},
     "output_type": "execute_result"
    }
   ],
   "source": [
    "def Crepe(personne, unite='g'):\n",
    "    \"\"\"Fonction Recette de crepe pour x personne\n",
    "\n",
    "    Args:\n",
    "        personne (int): Nombre de personne\n",
    "\n",
    "    Returns:\n",
    "        str: La recette\n",
    "    \"\"\"\n",
    "    global sucre\n",
    "    sucre = 25*personne\n",
    "    sel = 10*personne\n",
    "    \n",
    "    for i in range(10):\n",
    "        if i%2 == 0:\n",
    "            pass\n",
    "        else:\n",
    "            continue\n",
    "    \n",
    "    return f\"sucre:  {sucre}{unite}, sel: {sel}{unite} pour {personne} personne\"\n",
    "Crepe(personne=5)"
   ]
  },
  {
   "cell_type": "code",
   "execution_count": 19,
   "metadata": {},
   "outputs": [
    {
     "name": "stdout",
     "output_type": "stream",
     "text": [
      "7.0 21.0\n"
     ]
    }
   ],
   "source": [
    "def average(list_int):\n",
    "    \"\"\"Averaging function\n",
    "\n",
    "    Args:\n",
    "        list_int (list): list of int\n",
    "\n",
    "    Returns:\n",
    "        moyen: result of the average\n",
    "    \"\"\"\n",
    "    moyen = 0\n",
    "    for elm in list_int:\n",
    "        moyen += elm\n",
    "    return moyen / len(list_int)\n",
    "\n",
    "def variance(list_int):\n",
    "    \"\"\"Variance calculation function\n",
    "\n",
    "    Args:\n",
    "        list_int (list): list of int\n",
    "\n",
    "    Returns:\n",
    "        moyen: result of the variance\n",
    "    \"\"\"\n",
    "    moyen = 0\n",
    "    for elm in list_int :\n",
    "        moyen += elm**2\n",
    "    return moyen/len(list_int) - average(list_int)**2\n",
    "\n",
    "\n",
    "print(average([0, 2, 4, 6, 8, 10, 12, 14]), variance([0, 2, 4, 6, 8, 10, 12, 14]))\n"
   ]
  },
  {
   "cell_type": "markdown",
   "metadata": {},
   "source": [
    "# Input"
   ]
  },
  {
   "cell_type": "code",
   "execution_count": 20,
   "metadata": {},
   "outputs": [
    {
     "name": "stdout",
     "output_type": "stream",
     "text": [
      "5.0\n"
     ]
    }
   ],
   "source": [
    "# region average avec imput \n",
    "# Demande a l'utilisateur une list de int pour utiliser la fonction average\n",
    "\n",
    "L = []\n",
    "while True:\n",
    "    x = int(input(\"Combien de nombre ?\"))\n",
    "    for i in range(x):\n",
    "        nb = int(input(f\"nombre {i+1}/{x} :\"))\n",
    "        L.append(nb)\n",
    "    f = input(\"Terminer ? (O/N)\")\n",
    "    if(f.upper() == 'O'):\n",
    "        break\n",
    "\n",
    "print(average(L))\n",
    "\n",
    "# endregion\n"
   ]
  },
  {
   "cell_type": "markdown",
   "metadata": {},
   "source": [
    "# Boucle"
   ]
  },
  {
   "cell_type": "code",
   "execution_count": 21,
   "metadata": {},
   "outputs": [
    {
     "name": "stdout",
     "output_type": "stream",
     "text": [
      "10\n",
      "12\n",
      "14\n",
      "16\n",
      "18\n",
      "10\n"
     ]
    }
   ],
   "source": [
    "# region for\n",
    "[i for i in range(10)]\n",
    "[i for i in range(10,20)]\n",
    "\n",
    "L = [i for i in range(10,20,2)]\n",
    "for elm in L:\n",
    "    print(elm)\n",
    "\n",
    "# endregion\n",
    "\n",
    "# region while \n",
    "i = 0\n",
    "while i <= 9:\n",
    "    i += 1\n",
    "    if i >= 5:\n",
    "        continue\n",
    "    elif i <5 :\n",
    "        pass\n",
    "    else:\n",
    "        break\n",
    "print(i)\n",
    "# endregion\n"
   ]
  },
  {
   "cell_type": "code",
   "execution_count": 1,
   "metadata": {},
   "outputs": [],
   "source": [
    "import turtle\n",
    "\n",
    "wn = turtle.Screen()\n",
    "my_art = turtle.Turtle()\n",
    "my_art.forward(150)\n",
    "my_art.left(45)\n",
    "my_art.forward(150)\n",
    "\n",
    "turtle.exitonclick()\n",
    "\n"
   ]
  },
  {
   "cell_type": "code",
   "execution_count": 1,
   "metadata": {},
   "outputs": [],
   "source": [
    "# Dessiner une etoile a 5 branche \n",
    "# foward,left et right : déclarer 1 fois ==> github\n",
    "\n",
    "import turtle\n",
    "\n",
    "wn = turtle.Screen()\n",
    "my_art = turtle.Turtle()\n",
    "\n",
    "for i in range(5):\n",
    "    my_art.forward(150)\n",
    "    my_art.right(144)\n",
    "turtle.exitonclick()\n"
   ]
  },
  {
   "cell_type": "code",
   "execution_count": null,
   "metadata": {},
   "outputs": [],
   "source": [
    "# Dessiner une etoile a 5 branche\n",
    "# foward,left et right : déclarer 1 fois\n",
    "# utilisation d'un bloc conditionnels \n",
    "\n",
    "import turtle\n",
    "\n",
    "wn = turtle.Screen()\n",
    "my_art = turtle.Turtle()\n",
    "\n",
    "for i in range(10):\n",
    "    my_art.forward(50)\n",
    "    if i % 2 == 0:\n",
    "        my_art.left(72)\n",
    "    else :\n",
    "        my_art.right(144)\n",
    "turtle.exitonclick()"
   ]
  },
  {
   "cell_type": "markdown",
   "metadata": {},
   "source": [
    "# Blocs conditionnels"
   ]
  },
  {
   "cell_type": "code",
   "execution_count": null,
   "metadata": {},
   "outputs": [],
   "source": [
    "if 1 == 2:\n",
    "    print(\"1 = 2\")\n",
    "elif 1 == 1:\n",
    "    print(\"1 = 1\")\n",
    "else:\n",
    "    print(\"1 != 2\")"
   ]
  },
  {
   "cell_type": "code",
   "execution_count": 8,
   "metadata": {},
   "outputs": [
    {
     "data": {
      "text/plain": [
       "True"
      ]
     },
     "execution_count": 8,
     "metadata": {},
     "output_type": "execute_result"
    }
   ],
   "source": [
    "1 == 1\n",
    "1 >= 1\n",
    "1 <= 1\n",
    "1 != 2\n",
    "1 in [1,2,3]\n",
    "1 not in [2,3,4]\n",
    "1 and 0\n",
    "1 or 0\n",
    "True\n",
    "False\n",
    "type(1) is int\n"
   ]
  }
 ],
 "metadata": {
  "kernelspec": {
   "display_name": ".venv",
   "language": "python",
   "name": "python3"
  },
  "language_info": {
   "codemirror_mode": {
    "name": "ipython",
    "version": 3
   },
   "file_extension": ".py",
   "mimetype": "text/x-python",
   "name": "python",
   "nbconvert_exporter": "python",
   "pygments_lexer": "ipython3",
   "version": "3.12.1"
  }
 },
 "nbformat": 4,
 "nbformat_minor": 2
}
