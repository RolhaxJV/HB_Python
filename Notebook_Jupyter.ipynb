{
 "cells": [
  {
   "cell_type": "markdown",
   "metadata": {},
   "source": [
    "# Variable"
   ]
  },
  {
   "cell_type": "code",
   "execution_count": 1,
   "metadata": {},
   "outputs": [
    {
     "data": {
      "text/plain": [
       "int"
      ]
     },
     "execution_count": 1,
     "metadata": {},
     "output_type": "execute_result"
    }
   ],
   "source": [
    "a = 5\n",
    "type(a)\n"
   ]
  },
  {
   "cell_type": "markdown",
   "metadata": {},
   "source": []
  },
  {
   "cell_type": "code",
   "execution_count": null,
   "metadata": {},
   "outputs": [],
   "source": [
    "a = 'a'\n",
    "b = 'b'\n",
    "c = 'c'\n",
    "\n",
    "zero = 0\n",
    "one = 1\n",
    "two = 2"
   ]
  },
  {
   "cell_type": "markdown",
   "metadata": {},
   "source": [
    "# Commentaire"
   ]
  },
  {
   "cell_type": "code",
   "execution_count": 3,
   "metadata": {},
   "outputs": [
    {
     "name": "stdout",
     "output_type": "stream",
     "text": [
      "Hello world\n"
     ]
    },
    {
     "data": {
      "text/plain": [
       "'\\nCommentaire\\n'"
      ]
     },
     "execution_count": 3,
     "metadata": {},
     "output_type": "execute_result"
    }
   ],
   "source": [
    "# Commentaire\n",
    "#region Commentaire\n",
    "print(\"Hello world\")\n",
    "#endregion\n",
    "\n",
    "'''\n",
    "Commentaire\n",
    "'''"
   ]
  },
  {
   "cell_type": "markdown",
   "metadata": {},
   "source": [
    "# Objets"
   ]
  },
  {
   "cell_type": "code",
   "execution_count": 7,
   "metadata": {},
   "outputs": [
    {
     "name": "stdout",
     "output_type": "stream",
     "text": [
      "objets\n",
      "Objets\n"
     ]
    },
    {
     "data": {
      "text/plain": [
       "' Cette fonction ne sert a rien\\n    input: None\\n    output : None\\n    '"
      ]
     },
     "execution_count": 7,
     "metadata": {},
     "output_type": "execute_result"
    }
   ],
   "source": [
    "my_variable = \"ObJeTs\"\n",
    "\n",
    "print(my_variable.lower())\n",
    "\n",
    "print(my_variable.capitalize())\n",
    "\n",
    "\n",
    "def my_function():\n",
    "    ''' Cette fonction ne sert a rien\n",
    "    input: None\n",
    "    output : None\n",
    "    '''\n",
    "    pass\n",
    "my_function.__doc__"
   ]
  },
  {
   "cell_type": "code",
   "execution_count": 11,
   "metadata": {},
   "outputs": [
    {
     "name": "stdout",
     "output_type": "stream",
     "text": [
      "MAJUSCULE | majuscule | Majuscule\n"
     ]
    }
   ],
   "source": [
    "my_variable = \"majuscule\"\n",
    "\n",
    "print(my_variable.upper(),\"|\", my_variable.lower(),\"|\",my_variable.capitalize())\n",
    "\n"
   ]
  },
  {
   "cell_type": "markdown",
   "metadata": {},
   "source": [
    "# Type / Sequence"
   ]
  },
  {
   "cell_type": "code",
   "execution_count": 7,
   "metadata": {},
   "outputs": [
    {
     "name": "stdout",
     "output_type": "stream",
     "text": [
      "<class 'str'>  |  <class 'int'>   |  <class 'float'>  |  <class 'bool'>\n",
      "<class 'set'>  |  <class 'list'>  |  <class 'tuple'>  |  <class 'dict'>\n",
      "[0, 1, 4, 9, 16, 25, 36, 49, 64, 81, 100, 121, 144, 169, 196, 225, 256, 289, 324, 361, 400, 441, 484, 529, 576, 625, 676, 729, 784, 841, 900, 961, 1024, 1089, 1156, 1225, 1296, 1369, 1444, 1521, 1600, 1681, 1764, 1849, 1936, 2025, 2116, 2209, 2304, 2401, 2500, 2601, 2704, 2809, 2916, 3025, 3136, 3249, 3364, 3481, 3600, 3721, 3844, 3969, 4096, 4225, 4356, 4489, 4624, 4761, 4900, 5041, 5184, 5329, 5476, 5625, 5776, 5929, 6084, 6241, 6400, 6561, 6724, 6889, 7056, 7225, 7396, 7569, 7744, 7921, 8100, 8281, 8464, 8649, 8836, 9025, 9216, 9409, 9604, 9801]\n"
     ]
    }
   ],
   "source": [
    "# Type\n",
    "print(type(''),\" | \", type(0) ,\"  | \", type(0.00) ,\" | \", type(True))\n",
    "\n",
    "# Sequence\n",
    "print(type({0,1,2}),\" | \", type([]) ,\" | \", type(()),\" | \",type({}))\n",
    "\n",
    "# region String : str\n",
    "\n",
    "string = \"Hello world\"\n",
    "len(string)\n",
    "string.split('o')\n",
    "\n",
    "# endregion\n",
    "\n",
    "# region List : list\n",
    "\n",
    "l = []\n",
    "l.append(string)\n",
    "'''\n",
    "l.reverse()\n",
    "l.pop() # Dernier element ajouter\n",
    "l.remove(string) # element choisi\n",
    "l + l \n",
    "l * l\n",
    "l[0]\n",
    "l[-1]\n",
    "l[1:]\n",
    "l[::2]\n",
    "'''\n",
    "\n",
    "# List en compréhension\n",
    "nbs = [*range(100)] # Ajoute dans la liste les element 0 à 99\n",
    "[number**2 for number in range(100)]\n",
    "\n",
    "# endregion\n",
    "\n",
    "# region Tuple : tuple\n",
    "\n",
    "tuple(l)\n",
    "l = (1,2,3)\n",
    "\n",
    "# endregion\n"
   ]
  },
  {
   "cell_type": "code",
   "execution_count": 17,
   "metadata": {},
   "outputs": [
    {
     "data": {
      "text/plain": [
       "[151.5,\n",
       " 159.0,\n",
       " 166.5,\n",
       " 174.0,\n",
       " 181.5,\n",
       " 189.0,\n",
       " 196.5,\n",
       " 204.0,\n",
       " 211.5,\n",
       " 219.0,\n",
       " 226.5,\n",
       " 234.0,\n",
       " 241.5,\n",
       " 249.0,\n",
       " 256.5,\n",
       " 264.0,\n",
       " 271.5,\n",
       " 279.0,\n",
       " 286.5,\n",
       " 294.0,\n",
       " 301.5,\n",
       " 309.0,\n",
       " 316.5,\n",
       " 324.0,\n",
       " 331.5,\n",
       " 339.0,\n",
       " 346.5,\n",
       " 354.0,\n",
       " 361.5,\n",
       " 369.0,\n",
       " 376.5]"
      ]
     },
     "execution_count": 17,
     "metadata": {},
     "output_type": "execute_result"
    }
   ],
   "source": [
    "# x = Surface de la maison\n",
    "a = 7.5\n",
    "b = 1.5\n",
    "# y = Prix de la maison\n",
    "\n",
    "# Votre mission, calculer y pour toutes les maisons allant de 20m² jusque 50m2\n",
    "[a*x+b for x in range(20,51)]\n",
    "\n"
   ]
  },
  {
   "cell_type": "code",
   "execution_count": 51,
   "metadata": {},
   "outputs": [
    {
     "name": "stdout",
     "output_type": "stream",
     "text": [
      "18/01/2024  |  690  |  52.08 % |  True\n"
     ]
    }
   ],
   "source": [
    "# Date du jour\n",
    "date = \"18/01/2024\"\n",
    "\n",
    "# Nombre de minutes écoulées depuis minuit jusque 11h30\n",
    "minute = 11*60 + 30\n",
    "\n",
    "# Pourcentage de minutes restantes dans la journée\n",
    "remaining_minutes = 100 - (minute * 100) /1440\n",
    "\n",
    "# Est que le nombre écouler de minute est pair ou impair\n",
    "\n",
    "is_even = minute % 2 == 0\n",
    "\n",
    "print(date ,' | ', minute, ' | ', round(remaining_minutes,2),'% | ', is_even)\n",
    "\n"
   ]
  },
  {
   "cell_type": "code",
   "execution_count": 66,
   "metadata": {},
   "outputs": [
    {
     "name": "stdout",
     "output_type": "stream",
     "text": [
      "Nous sommes le jeudi 18 janvier\n",
      "Minutes écoulées depuis minuit: 801 minutes\n",
      "Pourcentage des minutes restantes : 44.39 en %\n",
      "C'est Impair.\n",
      "Le nombre de minutes restantes est pair : False\n"
     ]
    }
   ],
   "source": [
    "from datetime import datetime\n",
    "import locale\n",
    "\n",
    "# Définir la locale en français\n",
    "locale.setlocale(locale.LC_TIME, \"fr_FR\")\n",
    "\n",
    "# Date du jour\n",
    "aujourd_hui = datetime.now()\n",
    "date = aujourd_hui.strftime(\"%A %d %B\")\n",
    "print(\"Nous sommes le\", date)\n",
    "# Restaurez la locale par défaut pour éviter d'éventuels problèmes\n",
    "locale.setlocale(locale.LC_TIME, \"\")\n",
    "\n",
    "# Heure actuelle\n",
    "heure_actuelle = aujourd_hui.time()\n",
    "\n",
    "# Nombre de minutes écoulées depuis minuit jusqu'à 11h30\n",
    "minuit = datetime.combine(aujourd_hui.date(), datetime.min.time())\n",
    "temps_ecoule = (aujourd_hui - minuit).total_seconds() / 60\n",
    "print(\"Minutes écoulées depuis minuit:\", round(temps_ecoule), \"minutes\")\n",
    "\n",
    "# Pourcentage de minutes restantes dans la journée\n",
    "temps_restant = (24 * 60 - temps_ecoule) / (24 * 60) * 100\n",
    "print(\"Pourcentage des minutes restantes :\", round(temps_restant, 2), \"en %\")\n",
    "\n",
    "# Est-ce que le nombre de minutes est pair ou impair\n",
    "# Solution n°1\n",
    "if temps_restant % 2 == 0:\n",
    "    is_even = True\n",
    "    print(\"C'est Pair.\")\n",
    "else:\n",
    "    is_even = False\n",
    "    print(\"C'est Impair.\")\n",
    "\n",
    "# Solution n°2\n",
    "is_even = temps_restant % 2 == 0\n",
    "print(\"Le nombre de minutes restantes est pair :\", is_even)"
   ]
  },
  {
   "cell_type": "markdown",
   "metadata": {},
   "source": [
    "# Operations Arithmétique"
   ]
  },
  {
   "cell_type": "code",
   "execution_count": 70,
   "metadata": {},
   "outputs": [
    {
     "data": {
      "text/plain": [
       "6"
      ]
     },
     "execution_count": 70,
     "metadata": {},
     "output_type": "execute_result"
    }
   ],
   "source": [
    "1 + 1 # Addition\n",
    "\n",
    "1 - 1 # Soustraction\n",
    "\n",
    "1 * 1 # Multiplication\n",
    "\n",
    "1 / 2 # Division\n",
    "\n",
    "2 ** 2 # Puissance\n",
    "\n",
    "12 % 2 # Modulo (reste d'une division euclidienne)\n",
    "\n",
    "12 // 2 # Division euclidienne (resultat stricte d'une division euclidenne)"
   ]
  },
  {
   "cell_type": "code",
   "execution_count": 89,
   "metadata": {},
   "outputs": [
    {
     "name": "stdout",
     "output_type": "stream",
     "text": [
      "moyenne de t : 7.0\n",
      "moyenne de s t : 21.0 \n",
      "\n",
      "moyenne de ln(N) :  3.43\n",
      "moyenne de s ln(N) :  2.73\n"
     ]
    }
   ],
   "source": [
    "# region Moyenne de t\n",
    "\n",
    "t = [0, 2, 4, 6, 8, 10, 12, 14]\n",
    "moyen_t = 0\n",
    "moyen_s_t = 0\n",
    "for elm in t :\n",
    "    moyen_t += elm\n",
    "    moyen_s_t += elm**2\n",
    "    \n",
    "moyen_t /= len(t)\n",
    "moyen_s_t = moyen_s_t/len(t) - moyen_t**2\n",
    "\n",
    "print(f\"moyenne de t : {moyen_t}\")\n",
    "print(f\"moyenne de s t : { moyen_s_t} \\n\")\n",
    "\n",
    "# endregion\n",
    "\n",
    "\n",
    "#region Moyenne de ln(N)\n",
    "ln_N = [0.69,1.61,2.77,2.99,3.69,4.60,5.30,5.77]\n",
    "moyen_ln_N = 0\n",
    "moyen_s_ln_N = 0\n",
    "for elm in ln_N :\n",
    "    moyen_ln_N += elm\n",
    "    moyen_s_ln_N += elm**2\n",
    "    \n",
    "moyen_ln_N /= len(ln_N)\n",
    "moyen_s_ln_N = moyen_s_ln_N/len(ln_N) - round(moyen_ln_N**2,2)\n",
    "\n",
    "print(\"moyenne de ln(N) : \",round(moyen_ln_N,2))\n",
    "print(\"moyenne de s ln(N) : \",round(moyen_s_ln_N,2))\n",
    "#endregion\n",
    "\n",
    "\n"
   ]
  }
 ],
 "metadata": {
  "kernelspec": {
   "display_name": ".venv",
   "language": "python",
   "name": "python3"
  },
  "language_info": {
   "codemirror_mode": {
    "name": "ipython",
    "version": 3
   },
   "file_extension": ".py",
   "mimetype": "text/x-python",
   "name": "python",
   "nbconvert_exporter": "python",
   "pygments_lexer": "ipython3",
   "version": "3.11.7"
  }
 },
 "nbformat": 4,
 "nbformat_minor": 2
}
