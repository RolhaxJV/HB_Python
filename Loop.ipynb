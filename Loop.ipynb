{
 "cells": [
  {
   "cell_type": "markdown",
   "metadata": {},
   "source": [
    "# Loop"
   ]
  },
  {
   "cell_type": "markdown",
   "metadata": {},
   "source": [
    "By using a while loop, create a list of numbers from 1 to 31 included."
   ]
  },
  {
   "cell_type": "code",
   "execution_count": 3,
   "metadata": {},
   "outputs": [
    {
     "name": "stdout",
     "output_type": "stream",
     "text": [
      "[1, 2, 3, 4, 5, 6, 7, 8, 9, 10, 11, 12, 13, 14, 15, 16, 17, 18, 19, 20, 21, 22, 23, 24, 25, 26, 27, 28, 29, 30, 31]\n"
     ]
    }
   ],
   "source": [
    "l = []\n",
    "i = 1\n",
    "while i<=31:\n",
    "    l.append(i)\n",
    "    i +=1\n",
    "print(l)"
   ]
  },
  {
   "cell_type": "markdown",
   "metadata": {},
   "source": [
    "By using a for loop, create a list of tuple, containing a number and a month.\n",
    "All months can have 31 days.\n",
    "\n",
    "Expected result : [(1, 'January'), (2, 'January'), (31, 'Décembre')]"
   ]
  },
  {
   "cell_type": "code",
   "execution_count": 11,
   "metadata": {},
   "outputs": [
    {
     "data": {
      "text/plain": [
       "[(24, 'January'),\n",
       " (16, 'February'),\n",
       " (29, 'March'),\n",
       " (12, 'April'),\n",
       " (3, 'May'),\n",
       " (16, 'June'),\n",
       " (5, 'July'),\n",
       " (23, 'August'),\n",
       " (16, 'September'),\n",
       " (6, 'October'),\n",
       " (2, 'November'),\n",
       " (9, 'December')]"
      ]
     },
     "execution_count": 11,
     "metadata": {},
     "output_type": "execute_result"
    }
   ],
   "source": [
    "import random\n",
    "l = []\n",
    "month = [\"January\", \"February\", \"March\", \"April\", \"May\", \"June\", \"July\", \"August\", \"September\", \"October\", \"November\", \"December\"]\n",
    "for m in month:\n",
    "    i = random.randint(1,31)\n",
    "    l.append((i,m))\n",
    "l"
   ]
  }
 ],
 "metadata": {
  "kernelspec": {
   "display_name": "Python 3.10.5 64-bit",
   "language": "python",
   "name": "python3"
  },
  "language_info": {
   "codemirror_mode": {
    "name": "ipython",
    "version": 3
   },
   "file_extension": ".py",
   "mimetype": "text/x-python",
   "name": "python",
   "nbconvert_exporter": "python",
   "pygments_lexer": "ipython3",
   "version": "3.12.1"
  },
  "vscode": {
   "interpreter": {
    "hash": "978cbc386ed05effeb3d4ddae2ec8e964a1df925c0fd2ef4770302988156a95d"
   }
  }
 },
 "nbformat": 4,
 "nbformat_minor": 4
}
