{
 "cells": [
  {
   "cell_type": "markdown",
   "metadata": {},
   "source": [
    "## Function"
   ]
  },
  {
   "cell_type": "markdown",
   "metadata": {},
   "source": [
    "Create a function which will generate a calendar.\n",
    "\n",
    "The parameter have to be a Year, the out a Dictionnary with the following keys.\n",
    "\n",
    "The expected result is : {'day': [1, 2...], 'month': ['January', 'January'...'December'], 'year': [2020, 2020..], 'elapsed_time': [0.003, ...100]}"
   ]
  },
  {
   "cell_type": "code",
   "execution_count": 6,
   "metadata": {},
   "outputs": [
    {
     "name": "stdout",
     "output_type": "stream",
     "text": [
      "     day     month  year  elapsed_time\n",
      "0      1   January  2022         0.000\n",
      "1      2   January  2022         0.000\n",
      "2      3   January  2022         0.000\n",
      "3      4   January  2022         0.000\n",
      "4      5   January  2022         0.000\n",
      "..   ...       ...   ...           ...\n",
      "360   27  December  2022         0.002\n",
      "361   28  December  2022         0.002\n",
      "362   29  December  2022         0.002\n",
      "363   30  December  2022         0.002\n",
      "364   31  December  2022         0.002\n",
      "\n",
      "[365 rows x 4 columns]\n"
     ]
    }
   ],
   "source": [
    "import calendar\n",
    "from datetime import datetime\n",
    "import pandas as pd\n",
    "\n",
    "def gen_calendar(year):\n",
    "    \"\"\" Generate a calender\n",
    "\n",
    "    Args:\n",
    "        year (int): year for the calender\n",
    "\n",
    "    Returns:\n",
    "        _type_: _description_\n",
    "    \"\"\"\n",
    "    cal = {\n",
    "        'day': [],\n",
    "        'month': [],\n",
    "        'year': [],\n",
    "        'elapsed_time': []\n",
    "    }\n",
    "\n",
    "    start_time = datetime.now()\n",
    "\n",
    "    for month in range(1, 13):\n",
    "        for day in range(1, calendar.monthrange(year, month)[1] + 1):\n",
    "            cal['day'].append(day)\n",
    "            cal['month'].append(calendar.month_name[month])\n",
    "            cal['year'].append(year)\n",
    "            elapsed_time = (datetime.now() - start_time).total_seconds()\n",
    "            cal['elapsed_time'].append(round(elapsed_time, 3))\n",
    "\n",
    "    return cal\n",
    "\n",
    "\n",
    "print(pd.DataFrame(gen_calendar(2022)))\n"
   ]
  },
  {
   "cell_type": "markdown",
   "metadata": {},
   "source": [
    "Why are we using functions ?"
   ]
  },
  {
   "cell_type": "code",
   "execution_count": null,
   "metadata": {},
   "outputs": [],
   "source": [
    "# Functions allow factorization and reuse of code for specific needs"
   ]
  }
 ],
 "metadata": {
  "kernelspec": {
   "display_name": "Python 3.8.10 64-bit (microsoft store)",
   "language": "python",
   "name": "python3"
  },
  "language_info": {
   "codemirror_mode": {
    "name": "ipython",
    "version": 3
   },
   "file_extension": ".py",
   "mimetype": "text/x-python",
   "name": "python",
   "nbconvert_exporter": "python",
   "pygments_lexer": "ipython3",
   "version": "3.12.1"
  },
  "vscode": {
   "interpreter": {
    "hash": "825c94aeb3011909476e5128882419f0b73939d2857b9ad1548e06fb43618312"
   }
  }
 },
 "nbformat": 4,
 "nbformat_minor": 4
}
